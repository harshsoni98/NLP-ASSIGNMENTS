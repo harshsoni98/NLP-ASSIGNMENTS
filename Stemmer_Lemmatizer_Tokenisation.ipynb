{
  "nbformat": 4,
  "nbformat_minor": 0,
  "metadata": {
    "kernelspec": {
      "display_name": "Python 3",
      "language": "python",
      "name": "python3"
    },
    "colab": {
      "name": "Stemmer_Lemmatizer_Tokenisation.ipynb",
      "provenance": [],
      "include_colab_link": true
    }
  },
  "cells": [
    {
      "cell_type": "markdown",
      "metadata": {
        "id": "view-in-github",
        "colab_type": "text"
      },
      "source": [
        "<a href=\"https://colab.research.google.com/github/harshsoni98/NLP-ASSIGNMENTS/blob/master/Stemmer_Lemmatizer_Tokenisation.ipynb\" target=\"_parent\"><img src=\"https://colab.research.google.com/assets/colab-badge.svg\" alt=\"Open In Colab\"/></a>"
      ]
    },
    {
      "cell_type": "code",
      "metadata": {
        "scrolled": true,
        "id": "SXITCdnWQM9t",
        "colab_type": "code",
        "colab": {
          "base_uri": "https://localhost:8080/",
          "height": 168
        },
        "outputId": "f76f9546-6fcb-4a68-8c64-d221eee79792"
      },
      "source": [
        "import nltk\n",
        "nltk.download('stopwords')\n",
        "nltk.download('wordnet')\n",
        "nltk.download('punkt')\n",
        "nltk.download('averaged_perceptron_tagger') \n",
        "\n",
        "import pandas as pd\n",
        "import matplotlib.pyplot as plt\n",
        "import io\n",
        "import unicodedata\n",
        "import numpy as np\n",
        "import re\n",
        "import string"
      ],
      "execution_count": null,
      "outputs": [
        {
          "output_type": "stream",
          "text": [
            "[nltk_data] Downloading package stopwords to /root/nltk_data...\n",
            "[nltk_data]   Unzipping corpora/stopwords.zip.\n",
            "[nltk_data] Downloading package wordnet to /root/nltk_data...\n",
            "[nltk_data]   Unzipping corpora/wordnet.zip.\n",
            "[nltk_data] Downloading package punkt to /root/nltk_data...\n",
            "[nltk_data]   Unzipping tokenizers/punkt.zip.\n",
            "[nltk_data] Downloading package averaged_perceptron_tagger to\n",
            "[nltk_data]     /root/nltk_data...\n",
            "[nltk_data]   Unzipping taggers/averaged_perceptron_tagger.zip.\n"
          ],
          "name": "stdout"
        }
      ]
    },
    {
      "cell_type": "code",
      "metadata": {
        "id": "n_5v04peQM9z",
        "colab_type": "code",
        "colab": {
          "base_uri": "https://localhost:8080/",
          "height": 50
        },
        "outputId": "216aebff-77b8-44c7-fdd8-179d318f9088"
      },
      "source": [
        "# Simple Tokeninzing\n",
        "from nltk.tokenize import word_tokenize\n",
        "sentence_data = \"This is a trial . Testing done by Naman . It's sunny day today.\"\n",
        "sentences = nltk.sent_tokenize(sentence_data)\n",
        "print(word_tokenize(sentence_data))\n",
        "print (sentences)"
      ],
      "execution_count": null,
      "outputs": [
        {
          "output_type": "stream",
          "text": [
            "['This', 'is', 'a', 'trial', '.', 'Testing', 'done', 'by', 'Naman', '.', 'It', \"'s\", 'sunny', 'day', 'today', '.']\n",
            "['This is a trial .', 'Testing done by Naman .', \"It's sunny day today.\"]\n"
          ],
          "name": "stdout"
        }
      ]
    },
    {
      "cell_type": "code",
      "metadata": {
        "id": "8OyP8rbqQM93",
        "colab_type": "code",
        "colab": {
          "base_uri": "https://localhost:8080/",
          "height": 54
        },
        "outputId": "e2d318eb-8398-41ff-b6d2-8f0c6beff403"
      },
      "source": [
        "paragraph = \"\"\"\"Quantitatively, the rainfall over the country as a whole during the second half of the season is likely to be 104 per cent of LPA with a model error of plus/minus 8 per cent,\" news agency Press Trust of India quoted the IMD official as saying.\n",
        "\n",
        "Monsoon in the range of 96-104 per cent of the LPA is considered normal, according to the weather office. The official rainfall season in the country is from June 1 to September 30.\n",
        "\n",
        "As the country heads towards the second half of the monsoon season, the flood situation remains grim in the two states of Assam and Bihar, New areas at Muzaffarpur in Bihar are inundated as ring dam of Burhi Gandak river collapsed due to heavy rain. More parts of the state were affected by floods after water levels of rivers originating in Nepal increased.\n",
        "\n",
        "According to the disaster management department of Bihar, areas in Madhubani and Siwan, which were not affected by the floods so far have been flooded. The number of people affected by floods in Bihar has risen to 39.63 lakh, up from 38.47 lakh on Wednesday. Eleven people have died due to flood-related incidents including seven in Darbhanga four in West Champaran. \n",
        "\n",
        "In Assam, 107 people have died and 56,71,031 people have been affected by the floods, according to the state disaster management authority. The Brahmaputra river is flowing above the danger level in Jorhat, Sonitpur, Dhubri, Golaghat and Nagaon.\"\"\"\n",
        "               \n",
        "# Tokenizing sentences\n",
        "sentences = nltk.sent_tokenize(paragraph)\n",
        "print(sentences)"
      ],
      "execution_count": null,
      "outputs": [
        {
          "output_type": "stream",
          "text": [
            "['\"Quantitatively, the rainfall over the country as a whole during the second half of the season is likely to be 104 per cent of LPA with a model error of plus/minus 8 per cent,\" news agency Press Trust of India quoted the IMD official as saying.', 'Monsoon in the range of 96-104 per cent of the LPA is considered normal, according to the weather office.', 'The official rainfall season in the country is from June 1 to September 30.', 'As the country heads towards the second half of the monsoon season, the flood situation remains grim in the two states of Assam and Bihar, New areas at Muzaffarpur in Bihar are inundated as ring dam of Burhi Gandak river collapsed due to heavy rain.', 'More parts of the state were affected by floods after water levels of rivers originating in Nepal increased.', 'According to the disaster management department of Bihar, areas in Madhubani and Siwan, which were not affected by the floods so far have been flooded.', 'The number of people affected by floods in Bihar has risen to 39.63 lakh, up from 38.47 lakh on Wednesday.', 'Eleven people have died due to flood-related incidents including seven in Darbhanga four in West Champaran.', 'In Assam, 107 people have died and 56,71,031 people have been affected by the floods, according to the state disaster management authority.', 'The Brahmaputra river is flowing above the danger level in Jorhat, Sonitpur, Dhubri, Golaghat and Nagaon.']\n"
          ],
          "name": "stdout"
        }
      ]
    },
    {
      "cell_type": "code",
      "metadata": {
        "id": "_O8TmHZdQM96",
        "colab_type": "code",
        "colab": {},
        "outputId": "6a210598-5549-4026-e8d4-f1949b96677b"
      },
      "source": [
        "# using stopwords \n",
        "stop_words = set(stopwords.words('english'))\n",
        "words = nltk.word_tokenize(paragraph)\n",
        "output_sentence = [w for w in words if not w in stop_words]\n",
        "output_sentence = []\n",
        "for w in words:\n",
        "    if w not in stop_words:\n",
        "        output_sentence.append(w)\n",
        "print(output_sentence)"
      ],
      "execution_count": null,
      "outputs": [
        {
          "output_type": "stream",
          "text": [
            "['``', 'Quantitatively', ',', 'rainfall', 'country', 'whole', 'second', 'half', 'season', 'likely', '104', 'per', 'cent', 'LPA', 'model', 'error', 'plus/minus', '8', 'per', 'cent', ',', \"''\", 'news', 'agency', 'Press', 'Trust', 'India', 'quoted', 'IMD', 'official', 'saying', '.', 'Monsoon', 'range', '96-104', 'per', 'cent', 'LPA', 'considered', 'normal', ',', 'according', 'weather', 'office', '.', 'The', 'official', 'rainfall', 'season', 'country', 'June', '1', 'September', '30', '.', 'As', 'country', 'heads', 'towards', 'second', 'half', 'monsoon', 'season', ',', 'flood', 'situation', 'remains', 'grim', 'two', 'states', 'Assam', 'Bihar', ',', 'New', 'areas', 'Muzaffarpur', 'Bihar', 'inundated', 'ring', 'dam', 'Burhi', 'Gandak', 'river', 'collapsed', 'due', 'heavy', 'rain', '.', 'More', 'parts', 'state', 'affected', 'floods', 'water', 'levels', 'rivers', 'originating', 'Nepal', 'increased', '.', 'According', 'disaster', 'management', 'department', 'Bihar', ',', 'areas', 'Madhubani', 'Siwan', ',', 'affected', 'floods', 'far', 'flooded', '.', 'The', 'number', 'people', 'affected', 'floods', 'Bihar', 'risen', '39.63', 'lakh', ',', '38.47', 'lakh', 'Wednesday', '.', 'Eleven', 'people', 'died', 'due', 'flood-related', 'incidents', 'including', 'seven', 'Darbhanga', 'four', 'West', 'Champaran', '.', 'In', 'Assam', ',', '107', 'people', 'died', '56,71,031', 'people', 'affected', 'floods', ',', 'according', 'state', 'disaster', 'management', 'authority', '.', 'The', 'Brahmaputra', 'river', 'flowing', 'danger', 'level', 'Jorhat', ',', 'Sonitpur', ',', 'Dhubri', ',', 'Golaghat', 'Nagaon', '.']\n"
          ],
          "name": "stdout"
        }
      ]
    },
    {
      "cell_type": "code",
      "metadata": {
        "id": "Xp1foLQkQM99",
        "colab_type": "code",
        "colab": {
          "base_uri": "https://localhost:8080/",
          "height": 70
        },
        "outputId": "f4b98373-51c0-452a-fd7d-21122df5ebe9"
      },
      "source": [
        "from nltk.stem import PorterStemmer\n",
        "from nltk.corpus import stopwords\n",
        "from nltk.stem import WordNetLemmatizer\n",
        "from nltk.stem.porter import *\n",
        "\n",
        "# Tokenizing sentences\n",
        "sentences = nltk.sent_tokenize(paragraph)\n",
        "print(len(sentences))\n",
        "lemmatizer = WordNetLemmatizer()\n",
        "# Stemming\n",
        "for i in range(len(sentences)):\n",
        "\n",
        "    words = nltk.word_tokenize(sentences[i])\n",
        "    stemmer = PorterStemmer()\n",
        "    words = [stemmer.stem(word) for word in words if word not in set(stopwords.words('english'))]\n",
        "    sentences[i] = ' '.join(words) \n",
        "\n",
        "print(sentences) ;"
      ],
      "execution_count": null,
      "outputs": [
        {
          "output_type": "stream",
          "text": [
            "10\n",
            "[\"`` quantit , rainfal countri whole second half season like 104 per cent lpa model error plus/minu 8 per cent , '' news agenc press trust india quot imd offici say .\", 'monsoon rang 96-104 per cent lpa consid normal , accord weather offic .', 'the offici rainfal season countri june 1 septemb 30 .', 'As countri head toward second half monsoon season , flood situat remain grim two state assam bihar , new area muzaffarpur bihar inund ring dam burhi gandak river collaps due heavi rain .', 'more part state affect flood water level river origin nepal increas .', 'accord disast manag depart bihar , area madhubani siwan , affect flood far flood .', 'the number peopl affect flood bihar risen 39.63 lakh , 38.47 lakh wednesday .', 'eleven peopl die due flood-rel incid includ seven darbhanga four west champaran .', 'In assam , 107 peopl die 56,71,031 peopl affect flood , accord state disast manag author .', 'the brahmaputra river flow danger level jorhat , sonitpur , dhubri , golaghat nagaon .']\n"
          ],
          "name": "stdout"
        }
      ]
    },
    {
      "cell_type": "code",
      "metadata": {
        "id": "GN-8fhAPQM-B",
        "colab_type": "code",
        "colab": {},
        "outputId": "84bc46f9-51cf-4a42-a9dd-7dc4b0b00b60"
      },
      "source": [
        "               \n",
        "# Tokenizing sentences\n",
        "sentences = nltk.sent_tokenize(paragraph)\n",
        "print(len(sentences))\n",
        "lemmatizer = WordNetLemmatizer()\n",
        "# Lemmatizing using WordNet\n",
        "for i in range(len(sentences)):\n",
        "    words = nltk.word_tokenize(sentences[i])\n",
        "    words = [lemmatizer.lemmatize(word) for word in words if word not in set(stopwords.words('english'))]\n",
        "    sentences[i] = ' '.join(words) \n",
        "\n",
        "print(sentences) ;"
      ],
      "execution_count": null,
      "outputs": [
        {
          "output_type": "stream",
          "text": [
            "10\n",
            "[\"`` Quantitatively , rainfall country whole second half season likely 104 per cent LPA model error plus/minus 8 per cent , '' news agency Press Trust India quoted IMD official saying .\", 'Monsoon range 96-104 per cent LPA considered normal , according weather office .', 'The official rainfall season country June 1 September 30 .', 'As country head towards second half monsoon season , flood situation remains grim two state Assam Bihar , New area Muzaffarpur Bihar inundated ring dam Burhi Gandak river collapsed due heavy rain .', 'More part state affected flood water level river originating Nepal increased .', 'According disaster management department Bihar , area Madhubani Siwan , affected flood far flooded .', 'The number people affected flood Bihar risen 39.63 lakh , 38.47 lakh Wednesday .', 'Eleven people died due flood-related incident including seven Darbhanga four West Champaran .', 'In Assam , 107 people died 56,71,031 people affected flood , according state disaster management authority .', 'The Brahmaputra river flowing danger level Jorhat , Sonitpur , Dhubri , Golaghat Nagaon .']\n"
          ],
          "name": "stdout"
        }
      ]
    },
    {
      "cell_type": "code",
      "metadata": {
        "id": "rYATuq5uQM-E",
        "colab_type": "code",
        "colab": {
          "base_uri": "https://localhost:8080/",
          "height": 70
        },
        "outputId": "b35fa87a-a103-455b-fa77-a92037f18515"
      },
      "source": [
        "from nltk.tokenize import WhitespaceTokenizer\n",
        "# Lemmatizing using Whitespace Tokenizer\n",
        "tokens=WhitespaceTokenizer()\n",
        "output=tokens.tokenize(paragraph)\n",
        "print(output)\n",
        "print(len(output))"
      ],
      "execution_count": null,
      "outputs": [
        {
          "output_type": "stream",
          "text": [
            "['\"Quantitatively,', 'the', 'rainfall', 'over', 'the', 'country', 'as', 'a', 'whole', 'during', 'the', 'second', 'half', 'of', 'the', 'season', 'is', 'likely', 'to', 'be', '104', 'per', 'cent', 'of', 'LPA', 'with', 'a', 'model', 'error', 'of', 'plus/minus', '8', 'per', 'cent,\"', 'news', 'agency', 'Press', 'Trust', 'of', 'India', 'quoted', 'the', 'IMD', 'official', 'as', 'saying.', 'Monsoon', 'in', 'the', 'range', 'of', '96-104', 'per', 'cent', 'of', 'the', 'LPA', 'is', 'considered', 'normal,', 'according', 'to', 'the', 'weather', 'office.', 'The', 'official', 'rainfall', 'season', 'in', 'the', 'country', 'is', 'from', 'June', '1', 'to', 'September', '30.', 'As', 'the', 'country', 'heads', 'towards', 'the', 'second', 'half', 'of', 'the', 'monsoon', 'season,', 'the', 'flood', 'situation', 'remains', 'grim', 'in', 'the', 'two', 'states', 'of', 'Assam', 'and', 'Bihar,', 'New', 'areas', 'at', 'Muzaffarpur', 'in', 'Bihar', 'are', 'inundated', 'as', 'ring', 'dam', 'of', 'Burhi', 'Gandak', 'river', 'collapsed', 'due', 'to', 'heavy', 'rain.', 'More', 'parts', 'of', 'the', 'state', 'were', 'affected', 'by', 'floods', 'after', 'water', 'levels', 'of', 'rivers', 'originating', 'in', 'Nepal', 'increased.', 'According', 'to', 'the', 'disaster', 'management', 'department', 'of', 'Bihar,', 'areas', 'in', 'Madhubani', 'and', 'Siwan,', 'which', 'were', 'not', 'affected', 'by', 'the', 'floods', 'so', 'far', 'have', 'been', 'flooded.', 'The', 'number', 'of', 'people', 'affected', 'by', 'floods', 'in', 'Bihar', 'has', 'risen', 'to', '39.63', 'lakh,', 'up', 'from', '38.47', 'lakh', 'on', 'Wednesday.', 'Eleven', 'people', 'have', 'died', 'due', 'to', 'flood-related', 'incidents', 'including', 'seven', 'in', 'Darbhanga', 'four', 'in', 'West', 'Champaran.', 'In', 'Assam,', '107', 'people', 'have', 'died', 'and', '56,71,031', 'people', 'have', 'been', 'affected', 'by', 'the', 'floods,', 'according', 'to', 'the', 'state', 'disaster', 'management', 'authority.', 'The', 'Brahmaputra', 'river', 'is', 'flowing', 'above', 'the', 'danger', 'level', 'in', 'Jorhat,', 'Sonitpur,', 'Dhubri,', 'Golaghat', 'and', 'Nagaon.']\n",
            "241\n"
          ],
          "name": "stdout"
        }
      ]
    },
    {
      "cell_type": "code",
      "metadata": {
        "id": "Z9P05BlOQM-I",
        "colab_type": "code",
        "colab": {},
        "outputId": "01f12228-6b05-4aa5-ac35-32ff72a9e05d"
      },
      "source": [
        "from nltk.tokenize import WordPunctTokenizer\n",
        "#Lemmatizing using WordPunctTokenizer\n",
        "tokens=WordPunctTokenizer()\n",
        "output=tokens.tokenize(paragraph)\n",
        "print(output)\n",
        "print(len(output))"
      ],
      "execution_count": null,
      "outputs": [
        {
          "output_type": "stream",
          "text": [
            "['\"', 'Quantitatively', ',', 'the', 'rainfall', 'over', 'the', 'country', 'as', 'a', 'whole', 'during', 'the', 'second', 'half', 'of', 'the', 'season', 'is', 'likely', 'to', 'be', '104', 'per', 'cent', 'of', 'LPA', 'with', 'a', 'model', 'error', 'of', 'plus', '/', 'minus', '8', 'per', 'cent', ',\"', 'news', 'agency', 'Press', 'Trust', 'of', 'India', 'quoted', 'the', 'IMD', 'official', 'as', 'saying', '.', 'Monsoon', 'in', 'the', 'range', 'of', '96', '-', '104', 'per', 'cent', 'of', 'the', 'LPA', 'is', 'considered', 'normal', ',', 'according', 'to', 'the', 'weather', 'office', '.', 'The', 'official', 'rainfall', 'season', 'in', 'the', 'country', 'is', 'from', 'June', '1', 'to', 'September', '30', '.', 'As', 'the', 'country', 'heads', 'towards', 'the', 'second', 'half', 'of', 'the', 'monsoon', 'season', ',', 'the', 'flood', 'situation', 'remains', 'grim', 'in', 'the', 'two', 'states', 'of', 'Assam', 'and', 'Bihar', ',', 'New', 'areas', 'at', 'Muzaffarpur', 'in', 'Bihar', 'are', 'inundated', 'as', 'ring', 'dam', 'of', 'Burhi', 'Gandak', 'river', 'collapsed', 'due', 'to', 'heavy', 'rain', '.', 'More', 'parts', 'of', 'the', 'state', 'were', 'affected', 'by', 'floods', 'after', 'water', 'levels', 'of', 'rivers', 'originating', 'in', 'Nepal', 'increased', '.', 'According', 'to', 'the', 'disaster', 'management', 'department', 'of', 'Bihar', ',', 'areas', 'in', 'Madhubani', 'and', 'Siwan', ',', 'which', 'were', 'not', 'affected', 'by', 'the', 'floods', 'so', 'far', 'have', 'been', 'flooded', '.', 'The', 'number', 'of', 'people', 'affected', 'by', 'floods', 'in', 'Bihar', 'has', 'risen', 'to', '39', '.', '63', 'lakh', ',', 'up', 'from', '38', '.', '47', 'lakh', 'on', 'Wednesday', '.', 'Eleven', 'people', 'have', 'died', 'due', 'to', 'flood', '-', 'related', 'incidents', 'including', 'seven', 'in', 'Darbhanga', 'four', 'in', 'West', 'Champaran', '.', 'In', 'Assam', ',', '107', 'people', 'have', 'died', 'and', '56', ',', '71', ',', '031', 'people', 'have', 'been', 'affected', 'by', 'the', 'floods', ',', 'according', 'to', 'the', 'state', 'disaster', 'management', 'authority', '.', 'The', 'Brahmaputra', 'river', 'is', 'flowing', 'above', 'the', 'danger', 'level', 'in', 'Jorhat', ',', 'Sonitpur', ',', 'Dhubri', ',', 'Golaghat', 'and', 'Nagaon', '.']\n",
            "279\n"
          ],
          "name": "stdout"
        }
      ]
    },
    {
      "cell_type": "code",
      "metadata": {
        "id": "2yaQEzw6QM-L",
        "colab_type": "code",
        "colab": {},
        "outputId": "456dee24-9f06-43ed-ba06-4e4052e070d7"
      },
      "source": [
        "from nltk.tokenize import TreebankWordTokenizer\n",
        "#Lemmatizing using TreebankWordTokenizer\n",
        "tokens=TreebankWordTokenizer()\n",
        "output=tokens.tokenize(paragraph)\n",
        "print(output)\n",
        "print(len(output))"
      ],
      "execution_count": null,
      "outputs": [
        {
          "output_type": "stream",
          "text": [
            "['``', 'Quantitatively', ',', 'the', 'rainfall', 'over', 'the', 'country', 'as', 'a', 'whole', 'during', 'the', 'second', 'half', 'of', 'the', 'season', 'is', 'likely', 'to', 'be', '104', 'per', 'cent', 'of', 'LPA', 'with', 'a', 'model', 'error', 'of', 'plus/minus', '8', 'per', 'cent', ',', \"''\", 'news', 'agency', 'Press', 'Trust', 'of', 'India', 'quoted', 'the', 'IMD', 'official', 'as', 'saying.', 'Monsoon', 'in', 'the', 'range', 'of', '96-104', 'per', 'cent', 'of', 'the', 'LPA', 'is', 'considered', 'normal', ',', 'according', 'to', 'the', 'weather', 'office.', 'The', 'official', 'rainfall', 'season', 'in', 'the', 'country', 'is', 'from', 'June', '1', 'to', 'September', '30.', 'As', 'the', 'country', 'heads', 'towards', 'the', 'second', 'half', 'of', 'the', 'monsoon', 'season', ',', 'the', 'flood', 'situation', 'remains', 'grim', 'in', 'the', 'two', 'states', 'of', 'Assam', 'and', 'Bihar', ',', 'New', 'areas', 'at', 'Muzaffarpur', 'in', 'Bihar', 'are', 'inundated', 'as', 'ring', 'dam', 'of', 'Burhi', 'Gandak', 'river', 'collapsed', 'due', 'to', 'heavy', 'rain.', 'More', 'parts', 'of', 'the', 'state', 'were', 'affected', 'by', 'floods', 'after', 'water', 'levels', 'of', 'rivers', 'originating', 'in', 'Nepal', 'increased.', 'According', 'to', 'the', 'disaster', 'management', 'department', 'of', 'Bihar', ',', 'areas', 'in', 'Madhubani', 'and', 'Siwan', ',', 'which', 'were', 'not', 'affected', 'by', 'the', 'floods', 'so', 'far', 'have', 'been', 'flooded.', 'The', 'number', 'of', 'people', 'affected', 'by', 'floods', 'in', 'Bihar', 'has', 'risen', 'to', '39.63', 'lakh', ',', 'up', 'from', '38.47', 'lakh', 'on', 'Wednesday.', 'Eleven', 'people', 'have', 'died', 'due', 'to', 'flood-related', 'incidents', 'including', 'seven', 'in', 'Darbhanga', 'four', 'in', 'West', 'Champaran.', 'In', 'Assam', ',', '107', 'people', 'have', 'died', 'and', '56,71,031', 'people', 'have', 'been', 'affected', 'by', 'the', 'floods', ',', 'according', 'to', 'the', 'state', 'disaster', 'management', 'authority.', 'The', 'Brahmaputra', 'river', 'is', 'flowing', 'above', 'the', 'danger', 'level', 'in', 'Jorhat', ',', 'Sonitpur', ',', 'Dhubri', ',', 'Golaghat', 'and', 'Nagaon', '.']\n",
            "257\n"
          ],
          "name": "stdout"
        }
      ]
    },
    {
      "cell_type": "code",
      "metadata": {
        "id": "NF3JOqxsQM-O",
        "colab_type": "code",
        "colab": {}
      },
      "source": [
        ""
      ],
      "execution_count": null,
      "outputs": []
    }
  ]
}